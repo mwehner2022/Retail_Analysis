{
 "cells": [
  {
   "cell_type": "markdown",
   "id": "08d98d1e",
   "metadata": {},
   "source": [
    "# This is a test notebook\n"
   ]
  },
  {
   "cell_type": "code",
   "execution_count": null,
   "id": "42375616",
   "metadata": {},
   "outputs": [],
   "source": []
  }
 ],
 "metadata": {
  "kernelspec": {
   "display_name": "mlenv",
   "language": "python",
   "name": "mlenv"
  },
  "language_info": {
   "codemirror_mode": {
    "name": "ipython",
    "version": 3
   },
   "file_extension": ".py",
   "mimetype": "text/x-python",
   "name": "python",
   "nbconvert_exporter": "python",
   "pygments_lexer": "ipython3",
   "version": "3.10.9"
  }
 },
 "nbformat": 4,
 "nbformat_minor": 5
}
