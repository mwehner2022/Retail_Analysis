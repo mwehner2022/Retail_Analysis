{
 "cells": [
  {
   "cell_type": "code",
   "execution_count": 1,
   "id": "2be05a36",
   "metadata": {},
   "outputs": [],
   "source": [
    "# Download the data to experiment with/have a place to start with the data"
   ]
  },
  {
   "cell_type": "code",
   "execution_count": 2,
   "id": "feae8fe6",
   "metadata": {},
   "outputs": [],
   "source": [
    "import pandas as pd\n",
    "import numpy as np\n",
    "import matplotlib.pyplot as plt\n",
    "import datetime as dt\n",
    "import sqlalchemy\n",
    "from sqlalchemy.ext.automap import automap_base\n",
    "from sqlalchemy.orm import session\n",
    "from sqlalchemy import create_engine, func"
   ]
  },
  {
   "cell_type": "code",
   "execution_count": null,
   "id": "84a498b6",
   "metadata": {},
   "outputs": [],
   "source": [
    "# Import the data into Jupyter Notebook or other code editor such as VS Code\n",
    "\n",
    "\n",
    "\n"
   ]
  },
  {
   "cell_type": "code",
   "execution_count": null,
   "id": "8b7344e4",
   "metadata": {},
   "outputs": [],
   "source": [
    "# Perform any data transformations for your assigned feature that are needed to \n",
    "# run a preliminary machine learning model, such as converting text fields to numeric data\n"
   ]
  },
  {
   "cell_type": "code",
   "execution_count": null,
   "id": "316597b9",
   "metadata": {},
   "outputs": [],
   "source": []
  },
  {
   "cell_type": "code",
   "execution_count": null,
   "id": "698cf0ba",
   "metadata": {},
   "outputs": [],
   "source": []
  },
  {
   "cell_type": "code",
   "execution_count": null,
   "id": "7169b9e9",
   "metadata": {},
   "outputs": [],
   "source": []
  },
  {
   "cell_type": "code",
   "execution_count": null,
   "id": "f08604b7",
   "metadata": {},
   "outputs": [],
   "source": []
  },
  {
   "cell_type": "code",
   "execution_count": null,
   "id": "502bb826",
   "metadata": {},
   "outputs": [],
   "source": [
    "# Run an elbow curve and a K-means model based on the elbow curve on the transformed data \n",
    "# to have an idea about the possible clustering that exists in the data"
   ]
  },
  {
   "cell_type": "code",
   "execution_count": null,
   "id": "f6821568",
   "metadata": {},
   "outputs": [],
   "source": [
    "import pandas as pd\n",
    "import plotly.express as px\n",
    "import hvplot.pandas\n",
    "from sklearn.cluster import KMeans\n",
    "import plotly.express as px\n",
    "import hvplot.pandas\n"
   ]
  },
  {
   "cell_type": "code",
   "execution_count": null,
   "id": "8aea47e9",
   "metadata": {},
   "outputs": [],
   "source": []
  },
  {
   "cell_type": "code",
   "execution_count": null,
   "id": "c57cae71",
   "metadata": {},
   "outputs": [],
   "source": []
  }
 ],
 "metadata": {
  "kernelspec": {
   "display_name": "mlenv",
   "language": "python",
   "name": "mlenv"
  },
  "language_info": {
   "codemirror_mode": {
    "name": "ipython",
    "version": 3
   },
   "file_extension": ".py",
   "mimetype": "text/x-python",
   "name": "python",
   "nbconvert_exporter": "python",
   "pygments_lexer": "ipython3",
   "version": "3.9.13"
  }
 },
 "nbformat": 4,
 "nbformat_minor": 5
}
